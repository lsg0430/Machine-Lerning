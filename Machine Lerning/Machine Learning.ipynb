{
 "cells": [
  {
   "cell_type": "markdown",
   "metadata": {},
   "source": [
    "***Machine Learning***\n",
    "\n",
    "**1. Supervised Learning (지도 학습)**<br>\n",
    "*ㆍ정답이 있는 데이터를 통해*<br>\n",
    "*ㆍ데이터 분류 / 올바른 결과 예측*\n",
    "\n",
    "**1-1. Regression (회귀)**<br>\n",
    "*ㆍ변수들 간의 상관관계를 찿는 것, 연속적인 데이터로부터 결과를 예측<br>\n",
    "ㆍ예측 결과가 숫자일 때 사용 적합*\n",
    "\n",
    "**1-2. Classification (분류)**<br>\n",
    "*ㆍ주어진 데이터를 정해진 범주에 따라 분류<br>\n",
    "ㆍ예측 결과가 숫자가 아닐 때 사용 적합*\n",
    "\n",
    "**2. Unsupervised Learning (비지도 학습)**<br>\n",
    "*ㆍ정답이 없는 데이터를 통해*<br>\n",
    "*ㆍ데이터의 유의미한 패턴 / 구조 발견*\n",
    "\n",
    "**2-1. Clustering (군집화)**<br>\n",
    "*ㆍ유사한 특징을 가지는 데이터들을 그룹화*<br>\n",
    "*ㆍClassification != Clustering*\n",
    "\n",
    "**3. Reinforcement Learning (강화 학습)**<br>\n",
    "*ㆍ행동에 대한 보상을 통해*<br>\n",
    "*ㆍ누적 보상을 최대화 하는 의사결정*"
   ]
  }
 ],
 "metadata": {
  "kernelspec": {
   "display_name": "Python 3.9.8 64-bit",
   "language": "python",
   "name": "python3"
  },
  "language_info": {
   "name": "python",
   "version": "3.9.8"
  },
  "orig_nbformat": 4,
  "vscode": {
   "interpreter": {
    "hash": "ca7b62161f3b9e3222d6fb67745e01a946a6552e36cbdcc714dadc2ba14328d1"
   }
  }
 },
 "nbformat": 4,
 "nbformat_minor": 2
}
